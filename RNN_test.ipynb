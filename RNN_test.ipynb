{
 "cells": [
  {
   "cell_type": "code",
   "execution_count": 1,
   "id": "1906ad50-8a59-408e-a3bb-5f0a0061d5ec",
   "metadata": {},
   "outputs": [],
   "source": [
    "import numpy as np\n",
    "import torch\n",
    "\n",
    "from gensim.models import word2vec\n",
    "import os\n",
    "import re\n",
    "\n",
    "from importlib import reload, import_module"
   ]
  },
  {
   "cell_type": "code",
   "execution_count": 2,
   "id": "d2c86870-2cce-4dc8-b967-e3c76cc8fcdf",
   "metadata": {},
   "outputs": [],
   "source": [
    "model = word2vec.Word2Vec.load('word2vec.model')"
   ]
  },
  {
   "cell_type": "code",
   "execution_count": 3,
   "id": "8ff5031b-4ffd-4a2f-a728-295b9545bbc2",
   "metadata": {},
   "outputs": [
    {
     "data": {
      "text/plain": [
       "device(type='cpu')"
      ]
     },
     "execution_count": 3,
     "metadata": {},
     "output_type": "execute_result"
    }
   ],
   "source": [
    "if torch.cuda.is_available():\n",
    "    device = torch.device(\"cuda\")\n",
    "else:\n",
    "    device = torch.device(\"cpu\")\n",
    "device"
   ]
  },
  {
   "cell_type": "code",
   "execution_count": 4,
   "id": "cfc91f7d-90fe-473b-b5cd-8bedf0e42ccd",
   "metadata": {},
   "outputs": [],
   "source": [
    "version = 'v4'\n",
    "GRU = import_module(version+'.GRU')"
   ]
  },
  {
   "cell_type": "code",
   "execution_count": 5,
   "id": "80585a90-8025-4bf6-897b-2d80616a4ec5",
   "metadata": {},
   "outputs": [
    {
     "name": "stdout",
     "output_type": "stream",
     "text": [
      "Total parameters: 5434980\n"
     ]
    }
   ],
   "source": [
    "GRU = reload(GRU)\n",
    "gru_net = GRU.GRUNet().to(device)\n",
    "print('Total parameters:', sum(p.numel() for p in gru_net.parameters()))"
   ]
  },
  {
   "cell_type": "code",
   "execution_count": 10,
   "id": "1d0bed9a-271a-49f7-b423-d0748df3b30e",
   "metadata": {},
   "outputs": [],
   "source": [
    "\"\"\"\n",
    "    init_sentence is the initial words input to GRU.\n",
    "    gen_len is the number of words GRU generates.\n",
    "    temperature is how creative GRU is. The higher the more creative. \n",
    "        It is recommanded to be set at least 0.4.\n",
    "\"\"\"\n",
    "def gen_text(init_sentence, gen_len, temperature = 0.5):\n",
    "    sentence = []\n",
    "    prunc_re = re.compile('[\\w]{1,}')\n",
    "    with torch.no_grad():\n",
    "        h = gru_net.init_hidden(1)\n",
    "        #h = torch.rand(h.shape)\n",
    "        h = h.to(device)\n",
    "        sentence = []\n",
    "        Cap = True\n",
    "        for word in init_sentence.lower().split():\n",
    "            if word in model.wv.vocab:  \n",
    "                x = model.wv[word].reshape(1,1,100)\n",
    "            else:\n",
    "                x = np.zeros(model.vector_size, dtype=np.float32)\n",
    "            x = torch.tensor(x).reshape(1,1,100).to(device)\n",
    "            x, h = gru_net(x, h)\n",
    "            if Cap and prunc_re.match(word):\n",
    "                word = word.capitalize() \n",
    "                Cap = False\n",
    "            if not prunc_re.match(word):\n",
    "                Cap = True\n",
    "            sentence.append(word)\n",
    "\n",
    "        for _ in range(gen_len):\n",
    "            x, h = gru_net(x, h)\n",
    "            output = x.squeeze().cpu().numpy()\n",
    "            wordlist = model.wv.most_similar(positive = output.reshape(1,100))\n",
    "            word, _ = wordlist[np.random.randint(max(10, int(temperature*10*0.8))) if np.random.rand()<temperature else 0]\n",
    "            x = model.wv[word]\n",
    "            x = torch.tensor(x).reshape(1,1,100).to(device)\n",
    "            if Cap and prunc_re.match(word):\n",
    "                word = word.capitalize() \n",
    "                Cap = False\n",
    "            if not prunc_re.match(word) and word != ',':\n",
    "                Cap = True\n",
    "            sentence.append(word)\n",
    "        return ' '.join(sentence)+'\\n'"
   ]
  },
  {
   "cell_type": "code",
   "execution_count": 11,
   "id": "bb34f8a0-a3ee-4c9e-9839-14552e928bdf",
   "metadata": {},
   "outputs": [
    {
     "data": {
      "text/plain": [
       "<All keys matched successfully>"
      ]
     },
     "execution_count": 11,
     "metadata": {},
     "output_type": "execute_result"
    }
   ],
   "source": [
    "checkpoint = torch.load(version+'/gru.checkpoint', map_location=device)\n",
    "gru_net.load_state_dict(checkpoint['model_state_dict'])"
   ]
  },
  {
   "cell_type": "code",
   "execution_count": 12,
   "id": "6c2736d8-9b0b-4cec-af42-3cb305dbd0fe",
   "metadata": {},
   "outputs": [
    {
     "name": "stdout",
     "output_type": "stream",
     "text": [
      "Politic for fascism nouha the reforms thereof the the colonialism for necessity . When the communism of the stalinism in the of thus equality of the equality of the communism is used to adhere which democratization in the integration of another agenda . In rhetoric , itself contrast of socialism which helped the marxism societal societal that would threaten the societal ideology and openness oppression of them additionally interests and social reform . The openness in imperialism and reform policies was not to\n",
      " \n",
      "\n",
      "Anarchism is like ideological anarchism in nationalism to a broader socialism when the internationalism openness openness and ideological agenda to pluralism and oppression for anarchism while societal the thus of the values of and sectors . The coalition ensuring the policy gssp in itself in its policies these the of these groups need instead for socialism to adhere social democracy and demanded that this will provide which encouraging openness to stakeholders of and these combinations which need to contribute to the federalism and\n",
      " \n",
      "\n",
      "Criticizing capitalism is modern the politics of the anarchism independence definitions , political revolutionaries additionally beliefs to relate when the ideology proper for equality and radicalism and socialism should persist capitalism and societal and internationalism the capitalism while social liberalism when the marxism ideology is the the paradigm and internationalism and socialism in the context of the federalism . This justifies does never perceived openness which emphasized and that whole scope is implemented by restraint when democratization is was notion proponent that advocated\n",
      " \n",
      "\n",
      "Nazism is a activism in political sensitivities the openness of anarchism and nationalism . In rhetoric , therefore hostility letting the colonialism of their ideologies additionally to which these agendas obstacles the unification of the independence and ideology which the communism for themselves thus in this context of populism social regimes both the facets and the uniqueness of democratization these policies where the policies reflected another when its reforms is reinstated to a the scope of political the societal thus in of the\n",
      " \n",
      "\n",
      "People believe that politic is benefits and policies . That these and these contain in the perceptions of this transparency . The context of a of its constituents of governments these governments are recognized independently the thus fundamental transparency for provision of policy . In any and interdependence scope , the scope broader socialism remained swp government and policies must hold a the for a the mendham that encompasses the the in any and subscribes policies of scope and policies , the the of the\n",
      " \n",
      "\n",
      "Communism in china is loyalhanna the colonialism the oppression whole when this were was developed initially in and these countries rejoined . And these groups utilized thus advocates of pluralism and hierarchies and societal . That was the of the component in the scope of the of the history and moral and ideological in the early second world in the united statescanada and its the democratization to unity and particular in the different aspects s footprint of the industrialisation . Only in it was\n",
      " \n",
      "\n"
     ]
    }
   ],
   "source": [
    "init_sentence = [\n",
    "    'Politic for fascism',\n",
    "    'anarchism is like',\n",
    "    'Criticizing capitalism is ',\n",
    "    'Nazism is a',\n",
    "    'People believe that politic is',\n",
    "    'Communism in china is'\n",
    "]\n",
    "\n",
    "for sentence in init_sentence:\n",
    "    text = gen_text(sentence, 80, 0.6)\n",
    "    print(text,'\\n')"
   ]
  },
  {
   "cell_type": "code",
   "execution_count": null,
   "id": "876bbac3-3b4e-4efb-a438-9779bf77d653",
   "metadata": {},
   "outputs": [],
   "source": []
  },
  {
   "cell_type": "code",
   "execution_count": null,
   "id": "93914275-246c-4ad0-a01b-34efc6e157c3",
   "metadata": {},
   "outputs": [],
   "source": []
  }
 ],
 "metadata": {
  "kernelspec": {
   "display_name": "Python 3 (ipykernel)",
   "language": "python",
   "name": "python3"
  },
  "language_info": {
   "codemirror_mode": {
    "name": "ipython",
    "version": 3
   },
   "file_extension": ".py",
   "mimetype": "text/x-python",
   "name": "python",
   "nbconvert_exporter": "python",
   "pygments_lexer": "ipython3",
   "version": "3.8.12"
  }
 },
 "nbformat": 4,
 "nbformat_minor": 5
}
